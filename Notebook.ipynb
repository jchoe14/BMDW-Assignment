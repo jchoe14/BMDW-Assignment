{
  "nbformat": 4,
  "nbformat_minor": 0,
  "metadata": {
    "colab": {
      "name": "Notebook.ipynb",
      "provenance": [],
      "authorship_tag": "ABX9TyMB7wNw9kjU8P/683u9O2rt",
      "include_colab_link": true
    },
    "kernelspec": {
      "name": "python3",
      "display_name": "Python 3"
    }
  },
  "cells": [
    {
      "cell_type": "markdown",
      "metadata": {
        "id": "view-in-github",
        "colab_type": "text"
      },
      "source": [
        "<a href=\"https://colab.research.google.com/github/jchoe14/BMDW-Assignment/blob/master/Notebook.ipynb\" target=\"_parent\"><img src=\"https://colab.research.google.com/assets/colab-badge.svg\" alt=\"Open In Colab\"/></a>"
      ]
    },
    {
      "cell_type": "markdown",
      "metadata": {
        "id": "EYOBeqU7L2Yq",
        "colab_type": "text"
      },
      "source": [
        "#**This is my notebook for BMDW-Assignment**\n",
        "\n"
      ]
    },
    {
      "cell_type": "code",
      "metadata": {
        "id": "BvcVAqoHL8kD",
        "colab_type": "code",
        "colab": {
          "base_uri": "https://localhost:8080/",
          "height": 122
        },
        "outputId": "a12afedf-c70c-4826-872f-e96997a2594b"
      },
      "source": [
        "from google.colab import drive\n",
        "drive.mount('/content/drive')"
      ],
      "execution_count": 1,
      "outputs": [
        {
          "output_type": "stream",
          "text": [
            "Go to this URL in a browser: https://accounts.google.com/o/oauth2/auth?client_id=947318989803-6bn6qk8qdgf4n4g3pfee6491hc0brc4i.apps.googleusercontent.com&redirect_uri=urn%3aietf%3awg%3aoauth%3a2.0%3aoob&response_type=code&scope=email%20https%3a%2f%2fwww.googleapis.com%2fauth%2fdocs.test%20https%3a%2f%2fwww.googleapis.com%2fauth%2fdrive%20https%3a%2f%2fwww.googleapis.com%2fauth%2fdrive.photos.readonly%20https%3a%2f%2fwww.googleapis.com%2fauth%2fpeopleapi.readonly\n",
            "\n",
            "Enter your authorization code:\n",
            "··········\n",
            "Mounted at /content/drive\n"
          ],
          "name": "stdout"
        }
      ]
    },
    {
      "cell_type": "code",
      "metadata": {
        "id": "CuJJXYzQLtsY",
        "colab_type": "code",
        "colab": {
          "base_uri": "https://localhost:8080/",
          "height": 71
        },
        "outputId": "527faa5c-8742-42c3-af42-612f1caed428"
      },
      "source": [
        "import pandas as pd\n",
        "import seaborn as sns"
      ],
      "execution_count": 2,
      "outputs": [
        {
          "output_type": "stream",
          "text": [
            "/usr/local/lib/python3.6/dist-packages/statsmodels/tools/_testing.py:19: FutureWarning: pandas.util.testing is deprecated. Use the functions in the public API at pandas.testing instead.\n",
            "  import pandas.util.testing as tm\n"
          ],
          "name": "stderr"
        }
      ]
    },
    {
      "cell_type": "code",
      "metadata": {
        "id": "dn9hu5CoMOqq",
        "colab_type": "code",
        "colab": {}
      },
      "source": [
        "case_df = pd.read_csv('/content/drive/My Drive/data_science_workshop/case_data.csv')\n",
        "control_df = pd.read_csv('/content/drive/My Drive/data_science_workshop/control_data.csv')"
      ],
      "execution_count": 3,
      "outputs": []
    },
    {
      "cell_type": "code",
      "metadata": {
        "id": "BfNL3ZGcNBR1",
        "colab_type": "code",
        "colab": {
          "base_uri": "https://localhost:8080/",
          "height": 204
        },
        "outputId": "eaa52751-007c-4377-b971-c162ce1f943d"
      },
      "source": [
        "full_df = pd.concat([case_df,control_df])\n",
        "full_df.head()"
      ],
      "execution_count": 4,
      "outputs": [
        {
          "output_type": "execute_result",
          "data": {
            "text/html": [
              "<div>\n",
              "<style scoped>\n",
              "    .dataframe tbody tr th:only-of-type {\n",
              "        vertical-align: middle;\n",
              "    }\n",
              "\n",
              "    .dataframe tbody tr th {\n",
              "        vertical-align: top;\n",
              "    }\n",
              "\n",
              "    .dataframe thead th {\n",
              "        text-align: right;\n",
              "    }\n",
              "</style>\n",
              "<table border=\"1\" class=\"dataframe\">\n",
              "  <thead>\n",
              "    <tr style=\"text-align: right;\">\n",
              "      <th></th>\n",
              "      <th>Phenotype_A</th>\n",
              "      <th>Phenotype_B</th>\n",
              "      <th>Phenotype_C</th>\n",
              "      <th>Phenotype_D</th>\n",
              "      <th>Phenotype_E</th>\n",
              "      <th>predicted_label</th>\n",
              "      <th>sample_ID</th>\n",
              "    </tr>\n",
              "  </thead>\n",
              "  <tbody>\n",
              "    <tr>\n",
              "      <th>0</th>\n",
              "      <td>1.050628</td>\n",
              "      <td>-0.445277</td>\n",
              "      <td>-0.463085</td>\n",
              "      <td>1.219458</td>\n",
              "      <td>-0.529953</td>\n",
              "      <td>case</td>\n",
              "      <td>Case_0</td>\n",
              "    </tr>\n",
              "    <tr>\n",
              "      <th>1</th>\n",
              "      <td>-0.121457</td>\n",
              "      <td>3.144045</td>\n",
              "      <td>0.729768</td>\n",
              "      <td>0.651428</td>\n",
              "      <td>2.094041</td>\n",
              "      <td>control</td>\n",
              "      <td>Case_1</td>\n",
              "    </tr>\n",
              "    <tr>\n",
              "      <th>2</th>\n",
              "      <td>1.562387</td>\n",
              "      <td>1.815261</td>\n",
              "      <td>-0.890487</td>\n",
              "      <td>1.739647</td>\n",
              "      <td>-0.879858</td>\n",
              "      <td>case</td>\n",
              "      <td>Case_2</td>\n",
              "    </tr>\n",
              "    <tr>\n",
              "      <th>3</th>\n",
              "      <td>0.120096</td>\n",
              "      <td>0.478846</td>\n",
              "      <td>-1.628602</td>\n",
              "      <td>0.120849</td>\n",
              "      <td>-1.273124</td>\n",
              "      <td>case</td>\n",
              "      <td>Case_3</td>\n",
              "    </tr>\n",
              "    <tr>\n",
              "      <th>4</th>\n",
              "      <td>0.880065</td>\n",
              "      <td>1.087070</td>\n",
              "      <td>-0.762285</td>\n",
              "      <td>0.716837</td>\n",
              "      <td>0.040455</td>\n",
              "      <td>control</td>\n",
              "      <td>Case_4</td>\n",
              "    </tr>\n",
              "  </tbody>\n",
              "</table>\n",
              "</div>"
            ],
            "text/plain": [
              "   Phenotype_A  Phenotype_B  Phenotype_C  ...  Phenotype_E  predicted_label sample_ID\n",
              "0     1.050628    -0.445277    -0.463085  ...    -0.529953             case    Case_0\n",
              "1    -0.121457     3.144045     0.729768  ...     2.094041          control    Case_1\n",
              "2     1.562387     1.815261    -0.890487  ...    -0.879858             case    Case_2\n",
              "3     0.120096     0.478846    -1.628602  ...    -1.273124             case    Case_3\n",
              "4     0.880065     1.087070    -0.762285  ...     0.040455          control    Case_4\n",
              "\n",
              "[5 rows x 7 columns]"
            ]
          },
          "metadata": {
            "tags": []
          },
          "execution_count": 4
        }
      ]
    },
    {
      "cell_type": "code",
      "metadata": {
        "id": "jIzCHrJ_Nqm_",
        "colab_type": "code",
        "colab": {
          "base_uri": "https://localhost:8080/",
          "height": 204
        },
        "outputId": "baec0df8-6358-4e02-8806-1a7b6a41d998"
      },
      "source": [
        "full_df = full_df.dropna(how='any')\n",
        "full_df.head()"
      ],
      "execution_count": 42,
      "outputs": [
        {
          "output_type": "execute_result",
          "data": {
            "text/html": [
              "<div>\n",
              "<style scoped>\n",
              "    .dataframe tbody tr th:only-of-type {\n",
              "        vertical-align: middle;\n",
              "    }\n",
              "\n",
              "    .dataframe tbody tr th {\n",
              "        vertical-align: top;\n",
              "    }\n",
              "\n",
              "    .dataframe thead th {\n",
              "        text-align: right;\n",
              "    }\n",
              "</style>\n",
              "<table border=\"1\" class=\"dataframe\">\n",
              "  <thead>\n",
              "    <tr style=\"text-align: right;\">\n",
              "      <th></th>\n",
              "      <th>Phenotype_A</th>\n",
              "      <th>Phenotype_B</th>\n",
              "      <th>Phenotype_C</th>\n",
              "      <th>Phenotype_D</th>\n",
              "      <th>Phenotype_E</th>\n",
              "      <th>predicted_label</th>\n",
              "      <th>sample_ID</th>\n",
              "    </tr>\n",
              "  </thead>\n",
              "  <tbody>\n",
              "    <tr>\n",
              "      <th>0</th>\n",
              "      <td>1.050628</td>\n",
              "      <td>-0.445277</td>\n",
              "      <td>-0.463085</td>\n",
              "      <td>1.219458</td>\n",
              "      <td>-0.529953</td>\n",
              "      <td>case</td>\n",
              "      <td>Case_0</td>\n",
              "    </tr>\n",
              "    <tr>\n",
              "      <th>1</th>\n",
              "      <td>-0.121457</td>\n",
              "      <td>3.144045</td>\n",
              "      <td>0.729768</td>\n",
              "      <td>0.651428</td>\n",
              "      <td>2.094041</td>\n",
              "      <td>control</td>\n",
              "      <td>Case_1</td>\n",
              "    </tr>\n",
              "    <tr>\n",
              "      <th>2</th>\n",
              "      <td>1.562387</td>\n",
              "      <td>1.815261</td>\n",
              "      <td>-0.890487</td>\n",
              "      <td>1.739647</td>\n",
              "      <td>-0.879858</td>\n",
              "      <td>case</td>\n",
              "      <td>Case_2</td>\n",
              "    </tr>\n",
              "    <tr>\n",
              "      <th>3</th>\n",
              "      <td>0.120096</td>\n",
              "      <td>0.478846</td>\n",
              "      <td>-1.628602</td>\n",
              "      <td>0.120849</td>\n",
              "      <td>-1.273124</td>\n",
              "      <td>case</td>\n",
              "      <td>Case_3</td>\n",
              "    </tr>\n",
              "    <tr>\n",
              "      <th>4</th>\n",
              "      <td>0.880065</td>\n",
              "      <td>1.087070</td>\n",
              "      <td>-0.762285</td>\n",
              "      <td>0.716837</td>\n",
              "      <td>0.040455</td>\n",
              "      <td>control</td>\n",
              "      <td>Case_4</td>\n",
              "    </tr>\n",
              "  </tbody>\n",
              "</table>\n",
              "</div>"
            ],
            "text/plain": [
              "   Phenotype_A  Phenotype_B  Phenotype_C  ...  Phenotype_E  predicted_label sample_ID\n",
              "0     1.050628    -0.445277    -0.463085  ...    -0.529953             case    Case_0\n",
              "1    -0.121457     3.144045     0.729768  ...     2.094041          control    Case_1\n",
              "2     1.562387     1.815261    -0.890487  ...    -0.879858             case    Case_2\n",
              "3     0.120096     0.478846    -1.628602  ...    -1.273124             case    Case_3\n",
              "4     0.880065     1.087070    -0.762285  ...     0.040455          control    Case_4\n",
              "\n",
              "[5 rows x 7 columns]"
            ]
          },
          "metadata": {
            "tags": []
          },
          "execution_count": 42
        }
      ]
    },
    {
      "cell_type": "code",
      "metadata": {
        "id": "LiQrvaCSU1rS",
        "colab_type": "code",
        "colab": {
          "base_uri": "https://localhost:8080/",
          "height": 34
        },
        "outputId": "df650bae-0845-422a-ef0a-7d509ed17899"
      },
      "source": [
        "!conda install statsmodels"
      ],
      "execution_count": 8,
      "outputs": [
        {
          "output_type": "stream",
          "text": [
            "/bin/bash: conda: command not found\n"
          ],
          "name": "stdout"
        }
      ]
    },
    {
      "cell_type": "code",
      "metadata": {
        "id": "CimXChSwe_xt",
        "colab_type": "code",
        "colab": {}
      },
      "source": [
        "from scipy import *"
      ],
      "execution_count": 6,
      "outputs": []
    },
    {
      "cell_type": "code",
      "metadata": {
        "id": "xWzkD3HGU9n3",
        "colab_type": "code",
        "colab": {}
      },
      "source": [
        "import scipy.stats as stats"
      ],
      "execution_count": 7,
      "outputs": []
    },
    {
      "cell_type": "code",
      "metadata": {
        "id": "TkBiOoNgOcaI",
        "colab_type": "code",
        "colab": {}
      },
      "source": [
        "df = pd.DataFrame(index=['Phenotype_A','Phenotype_B','Phenotype_C','Phenotype_D','Phenotype_E'], columns=['Phenotype_A','Phenotype_B','Phenotype_C','Phenotype_D','Phenotype_E'])"
      ],
      "execution_count": 34,
      "outputs": []
    },
    {
      "cell_type": "code",
      "metadata": {
        "id": "DftvWSyuR_55",
        "colab_type": "code",
        "colab": {}
      },
      "source": [
        "df.loc['Phenotype_A', 'Phenotype_B'] = stats.pearsonr(full_df['Phenotype_A'], full_df['Phenotype_B'])[0]\n",
        "df.loc['Phenotype_A', 'Phenotype_C'] = stats.pearsonr(full_df['Phenotype_A'], full_df['Phenotype_C'])[0]\n",
        "df.loc['Phenotype_A', 'Phenotype_D'] = stats.pearsonr(full_df['Phenotype_A'], full_df['Phenotype_D'])[0]\n",
        "df.loc['Phenotype_A', 'Phenotype_E'] = stats.pearsonr(full_df['Phenotype_A'], full_df['Phenotype_E'])[0]\n",
        "df.loc['Phenotype_B', 'Phenotype_C'] = stats.pearsonr(full_df['Phenotype_B'], full_df['Phenotype_C'])[0]\n",
        "df.loc['Phenotype_B', 'Phenotype_D'] = stats.pearsonr(full_df['Phenotype_B'], full_df['Phenotype_D'])[0]\n",
        "df.loc['Phenotype_B', 'Phenotype_E'] = stats.pearsonr(full_df['Phenotype_B'], full_df['Phenotype_E'])[0]\n",
        "df.loc['Phenotype_C', 'Phenotype_D'] = stats.pearsonr(full_df['Phenotype_C'], full_df['Phenotype_D'])[0]\n",
        "df.loc['Phenotype_C', 'Phenotype_E'] = stats.pearsonr(full_df['Phenotype_C'], full_df['Phenotype_E'])[0]\n",
        "df.loc['Phenotype_D', 'Phenotype_E'] = stats.pearsonr(full_df['Phenotype_D'], full_df['Phenotype_E'])[0]"
      ],
      "execution_count": 9,
      "outputs": []
    },
    {
      "cell_type": "code",
      "metadata": {
        "id": "9xhbI8C5S_tq",
        "colab_type": "code",
        "colab": {
          "base_uri": "https://localhost:8080/",
          "height": 359
        },
        "outputId": "6749519d-4f89-46ea-85a4-e7f3cce9ca13"
      },
      "source": [
        "df = df.stack().reset_index()\n",
        "df = df.rename(columns={'level_0':'phenotype_1', 'level_1':'phenotype_2', 0:'correlation'})\n",
        "df = df.sort_values(by='correlation', ascending=False)\n",
        "df"
      ],
      "execution_count": 10,
      "outputs": [
        {
          "output_type": "execute_result",
          "data": {
            "text/html": [
              "<div>\n",
              "<style scoped>\n",
              "    .dataframe tbody tr th:only-of-type {\n",
              "        vertical-align: middle;\n",
              "    }\n",
              "\n",
              "    .dataframe tbody tr th {\n",
              "        vertical-align: top;\n",
              "    }\n",
              "\n",
              "    .dataframe thead th {\n",
              "        text-align: right;\n",
              "    }\n",
              "</style>\n",
              "<table border=\"1\" class=\"dataframe\">\n",
              "  <thead>\n",
              "    <tr style=\"text-align: right;\">\n",
              "      <th></th>\n",
              "      <th>phenotype_1</th>\n",
              "      <th>phenotype_2</th>\n",
              "      <th>correlation</th>\n",
              "    </tr>\n",
              "  </thead>\n",
              "  <tbody>\n",
              "    <tr>\n",
              "      <th>6</th>\n",
              "      <td>Phenotype_B</td>\n",
              "      <td>Phenotype_E</td>\n",
              "      <td>0.717987</td>\n",
              "    </tr>\n",
              "    <tr>\n",
              "      <th>2</th>\n",
              "      <td>Phenotype_A</td>\n",
              "      <td>Phenotype_D</td>\n",
              "      <td>0.550037</td>\n",
              "    </tr>\n",
              "    <tr>\n",
              "      <th>8</th>\n",
              "      <td>Phenotype_C</td>\n",
              "      <td>Phenotype_E</td>\n",
              "      <td>0.442838</td>\n",
              "    </tr>\n",
              "    <tr>\n",
              "      <th>4</th>\n",
              "      <td>Phenotype_B</td>\n",
              "      <td>Phenotype_C</td>\n",
              "      <td>0.303462</td>\n",
              "    </tr>\n",
              "    <tr>\n",
              "      <th>0</th>\n",
              "      <td>Phenotype_A</td>\n",
              "      <td>Phenotype_B</td>\n",
              "      <td>-0.226783</td>\n",
              "    </tr>\n",
              "    <tr>\n",
              "      <th>1</th>\n",
              "      <td>Phenotype_A</td>\n",
              "      <td>Phenotype_C</td>\n",
              "      <td>-0.304059</td>\n",
              "    </tr>\n",
              "    <tr>\n",
              "      <th>3</th>\n",
              "      <td>Phenotype_A</td>\n",
              "      <td>Phenotype_E</td>\n",
              "      <td>-0.345747</td>\n",
              "    </tr>\n",
              "    <tr>\n",
              "      <th>7</th>\n",
              "      <td>Phenotype_C</td>\n",
              "      <td>Phenotype_D</td>\n",
              "      <td>-0.454291</td>\n",
              "    </tr>\n",
              "    <tr>\n",
              "      <th>9</th>\n",
              "      <td>Phenotype_D</td>\n",
              "      <td>Phenotype_E</td>\n",
              "      <td>-0.660945</td>\n",
              "    </tr>\n",
              "    <tr>\n",
              "      <th>5</th>\n",
              "      <td>Phenotype_B</td>\n",
              "      <td>Phenotype_D</td>\n",
              "      <td>-0.750692</td>\n",
              "    </tr>\n",
              "  </tbody>\n",
              "</table>\n",
              "</div>"
            ],
            "text/plain": [
              "   phenotype_1  phenotype_2 correlation\n",
              "6  Phenotype_B  Phenotype_E    0.717987\n",
              "2  Phenotype_A  Phenotype_D    0.550037\n",
              "8  Phenotype_C  Phenotype_E    0.442838\n",
              "4  Phenotype_B  Phenotype_C    0.303462\n",
              "0  Phenotype_A  Phenotype_B   -0.226783\n",
              "1  Phenotype_A  Phenotype_C   -0.304059\n",
              "3  Phenotype_A  Phenotype_E   -0.345747\n",
              "7  Phenotype_C  Phenotype_D   -0.454291\n",
              "9  Phenotype_D  Phenotype_E   -0.660945\n",
              "5  Phenotype_B  Phenotype_D   -0.750692"
            ]
          },
          "metadata": {
            "tags": []
          },
          "execution_count": 10
        }
      ]
    },
    {
      "cell_type": "code",
      "metadata": {
        "id": "sZlD-0wHVN3p",
        "colab_type": "code",
        "colab": {}
      },
      "source": [
        "df.to_csv('correlation.csv', index=False)"
      ],
      "execution_count": 11,
      "outputs": []
    },
    {
      "cell_type": "code",
      "metadata": {
        "id": "GWrOmqielTaq",
        "colab_type": "code",
        "colab": {
          "base_uri": "https://localhost:8080/",
          "height": 119
        },
        "outputId": "1e73ea2b-4451-4b1f-cec6-2e4920e307af"
      },
      "source": [
        "! git clone https://github.com/jchoe14/BMDW-Assignment.git"
      ],
      "execution_count": 18,
      "outputs": [
        {
          "output_type": "stream",
          "text": [
            "Cloning into 'BMDW-Assignment'...\n",
            "remote: Enumerating objects: 28, done.\u001b[K\n",
            "remote: Counting objects: 100% (28/28), done.\u001b[K\n",
            "remote: Compressing objects: 100% (22/22), done.\u001b[K\n",
            "remote: Total 28 (delta 2), reused 0 (delta 0), pack-reused 0\u001b[K\n",
            "Unpacking objects: 100% (28/28), done.\n"
          ],
          "name": "stdout"
        }
      ]
    },
    {
      "cell_type": "code",
      "metadata": {
        "id": "DHEuhGtgrmi1",
        "colab_type": "code",
        "colab": {}
      },
      "source": [
        "! git config --global user.email \"jeechoe9@gmail.com\"\n",
        "! git config --global user.name \"jchoe14\""
      ],
      "execution_count": 20,
      "outputs": []
    },
    {
      "cell_type": "code",
      "metadata": {
        "id": "iaqJIR3wsj_x",
        "colab_type": "code",
        "colab": {
          "base_uri": "https://localhost:8080/",
          "height": 280
        },
        "outputId": "542a96e9-f643-4f0a-96c0-163f3771f87a"
      },
      "source": [
        "g = sns.scatterplot(data=full_df, x='Phenotype_B', y='Phenotype_E', hue='predicted_label', alpha=0.4)"
      ],
      "execution_count": 25,
      "outputs": [
        {
          "output_type": "display_data",
          "data": {
            "image/png": "[encoded data removed]",
            "text/plain": [
              "<Figure size 432x288 with 1 Axes>"
            ]
          },
          "metadata": {
            "tags": []
          }
        }
      ]
    },
    {
      "cell_type": "code",
      "metadata": {
        "id": "punRwJ3ouaps",
        "colab_type": "code",
        "colab": {
          "base_uri": "https://localhost:8080/",
          "height": 34
        },
        "outputId": "a3d0f228-a4d3-480c-e468-f29b0b8014e9"
      },
      "source": [
        "import matplotlib.pyplot as plt\n",
        "g = sns.set_style(\"white\")\n",
        "plt.savefig(\"/content/drive/My Drive/data_science_workshop/max_correlation.png\")\n"
      ],
      "execution_count": 24,
      "outputs": [
        {
          "output_type": "display_data",
          "data": {
            "text/plain": [
              "<Figure size 432x288 with 0 Axes>"
            ]
          },
          "metadata": {
            "tags": []
          }
        }
      ]
    },
    {
      "cell_type": "code",
      "metadata": {
        "id": "NdgSmktKqIP8",
        "colab_type": "code",
        "colab": {
          "base_uri": "https://localhost:8080/",
          "height": 204
        },
        "outputId": "b8ca8725-e356-4ff1-c646-307c20d15493"
      },
      "source": [
        "full_df.groupby(['predicted_label'])\n",
        "full_df.head()"
      ],
      "execution_count": 45,
      "outputs": [
        {
          "output_type": "execute_result",
          "data": {
            "text/html": [
              "<div>\n",
              "<style scoped>\n",
              "    .dataframe tbody tr th:only-of-type {\n",
              "        vertical-align: middle;\n",
              "    }\n",
              "\n",
              "    .dataframe tbody tr th {\n",
              "        vertical-align: top;\n",
              "    }\n",
              "\n",
              "    .dataframe thead th {\n",
              "        text-align: right;\n",
              "    }\n",
              "</style>\n",
              "<table border=\"1\" class=\"dataframe\">\n",
              "  <thead>\n",
              "    <tr style=\"text-align: right;\">\n",
              "      <th></th>\n",
              "      <th>Phenotype_A</th>\n",
              "      <th>Phenotype_B</th>\n",
              "      <th>Phenotype_C</th>\n",
              "      <th>Phenotype_D</th>\n",
              "      <th>Phenotype_E</th>\n",
              "      <th>predicted_label</th>\n",
              "      <th>sample_ID</th>\n",
              "    </tr>\n",
              "  </thead>\n",
              "  <tbody>\n",
              "    <tr>\n",
              "      <th>0</th>\n",
              "      <td>1.050628</td>\n",
              "      <td>-0.445277</td>\n",
              "      <td>-0.463085</td>\n",
              "      <td>1.219458</td>\n",
              "      <td>-0.529953</td>\n",
              "      <td>case</td>\n",
              "      <td>Case_0</td>\n",
              "    </tr>\n",
              "    <tr>\n",
              "      <th>1</th>\n",
              "      <td>-0.121457</td>\n",
              "      <td>3.144045</td>\n",
              "      <td>0.729768</td>\n",
              "      <td>0.651428</td>\n",
              "      <td>2.094041</td>\n",
              "      <td>control</td>\n",
              "      <td>Case_1</td>\n",
              "    </tr>\n",
              "    <tr>\n",
              "      <th>2</th>\n",
              "      <td>1.562387</td>\n",
              "      <td>1.815261</td>\n",
              "      <td>-0.890487</td>\n",
              "      <td>1.739647</td>\n",
              "      <td>-0.879858</td>\n",
              "      <td>case</td>\n",
              "      <td>Case_2</td>\n",
              "    </tr>\n",
              "    <tr>\n",
              "      <th>3</th>\n",
              "      <td>0.120096</td>\n",
              "      <td>0.478846</td>\n",
              "      <td>-1.628602</td>\n",
              "      <td>0.120849</td>\n",
              "      <td>-1.273124</td>\n",
              "      <td>case</td>\n",
              "      <td>Case_3</td>\n",
              "    </tr>\n",
              "    <tr>\n",
              "      <th>4</th>\n",
              "      <td>0.880065</td>\n",
              "      <td>1.087070</td>\n",
              "      <td>-0.762285</td>\n",
              "      <td>0.716837</td>\n",
              "      <td>0.040455</td>\n",
              "      <td>control</td>\n",
              "      <td>Case_4</td>\n",
              "    </tr>\n",
              "  </tbody>\n",
              "</table>\n",
              "</div>"
            ],
            "text/plain": [
              "   Phenotype_A  Phenotype_B  Phenotype_C  ...  Phenotype_E  predicted_label sample_ID\n",
              "0     1.050628    -0.445277    -0.463085  ...    -0.529953             case    Case_0\n",
              "1    -0.121457     3.144045     0.729768  ...     2.094041          control    Case_1\n",
              "2     1.562387     1.815261    -0.890487  ...    -0.879858             case    Case_2\n",
              "3     0.120096     0.478846    -1.628602  ...    -1.273124             case    Case_3\n",
              "4     0.880065     1.087070    -0.762285  ...     0.040455          control    Case_4\n",
              "\n",
              "[5 rows x 7 columns]"
            ]
          },
          "metadata": {
            "tags": []
          },
          "execution_count": 45
        }
      ]
    },
    {
      "cell_type": "code",
      "metadata": {
        "id": "l0PyEWLgwcGS",
        "colab_type": "code",
        "colab": {
          "base_uri": "https://localhost:8080/",
          "height": 34
        },
        "outputId": "3104e845-8112-4ca0-cdbd-a0022ca36287"
      },
      "source": [
        "case_A = full_df.loc[full_df['predicted_label'] == 'case', 'Phenotype_A']\n",
        "control_A = full_df.loc[full_df['predicted_label'] == 'control', 'Phenotype_A']\n",
        "tt2_result_A = stats.ttest_ind(case_A, control_A)\n",
        "print(tt2_result_A)"
      ],
      "execution_count": 40,
      "outputs": [
        {
          "output_type": "stream",
          "text": [
            "Ttest_indResult(statistic=125.81531296760492, pvalue=0.0)\n"
          ],
          "name": "stdout"
        }
      ]
    },
    {
      "cell_type": "code",
      "metadata": {
        "id": "9qsKDUGmf-cL",
        "colab_type": "code",
        "colab": {
          "base_uri": "https://localhost:8080/",
          "height": 34
        },
        "outputId": "daa46f2c-26cd-4347-8a5e-6bf90ab6887d"
      },
      "source": [
        "case_B = full_df.loc[full_df['predicted_label'] == 'case', 'Phenotype_B']\n",
        "control_B = full_df.loc[full_df['predicted_label'] == 'control', 'Phenotype_B']\n",
        "tt2_result_B = stats.ttest_ind(case_B, control_B)\n",
        "print(tt2_result_B)"
      ],
      "execution_count": 37,
      "outputs": [
        {
          "output_type": "stream",
          "text": [
            "Ttest_indResult(statistic=-612.2304614555765, pvalue=0.0)\n"
          ],
          "name": "stdout"
        }
      ]
    },
    {
      "cell_type": "markdown",
      "metadata": {
        "id": "c4kIdPcGw7-3",
        "colab_type": "text"
      },
      "source": [
        ""
      ]
    },
    {
      "cell_type": "code",
      "metadata": {
        "id": "EAlVMOvign3J",
        "colab_type": "code",
        "colab": {
          "base_uri": "https://localhost:8080/",
          "height": 34
        },
        "outputId": "71006487-b34b-4a12-eb7f-775aad30f576"
      },
      "source": [
        "case_C = full_df.loc[full_df['predicted_label'] == 'case', 'Phenotype_C']\n",
        "control_C = full_df.loc[full_df['predicted_label'] == 'control', 'Phenotype_C']\n",
        "tt2_result_C = stats.ttest_ind(case_C, control_C)\n",
        "print(tt2_result_C)"
      ],
      "execution_count": 38,
      "outputs": [
        {
          "output_type": "stream",
          "text": [
            "Ttest_indResult(statistic=-129.29057422671738, pvalue=0.0)\n"
          ],
          "name": "stdout"
        }
      ]
    },
    {
      "cell_type": "code",
      "metadata": {
        "id": "uSmL39NQpOaz",
        "colab_type": "code",
        "colab": {
          "base_uri": "https://localhost:8080/",
          "height": 34
        },
        "outputId": "548d1f53-1d11-4155-8395-aeeee314e5a6"
      },
      "source": [
        "case_D = full_df.loc[full_df['predicted_label'] == 'case', 'Phenotype_D']\n",
        "control_D = full_df.loc[full_df['predicted_label'] == 'control', 'Phenotype_D']\n",
        "tt2_result_D = stats.ttest_ind(case_D, control_D)\n",
        "print(tt2_result_D)"
      ],
      "execution_count": 41,
      "outputs": [
        {
          "output_type": "stream",
          "text": [
            "Ttest_indResult(statistic=454.70409785658177, pvalue=0.0)\n"
          ],
          "name": "stdout"
        }
      ]
    },
    {
      "cell_type": "code",
      "metadata": {
        "id": "-Gk03jS-p7cy",
        "colab_type": "code",
        "colab": {
          "base_uri": "https://localhost:8080/",
          "height": 34
        },
        "outputId": "b903d4e0-6dec-4cae-b3a8-be67538e2b04"
      },
      "source": [
        "case_E = full_df.loc[full_df['predicted_label'] == 'case', 'Phenotype_E']\n",
        "control_E = full_df.loc[full_df['predicted_label'] == 'control', 'Phenotype_E']\n",
        "tt2_result_E = stats.ttest_ind(case_E, control_E)\n",
        "print(tt2_result_E)"
      ],
      "execution_count": 46,
      "outputs": [
        {
          "output_type": "stream",
          "text": [
            "Ttest_indResult(statistic=-796.6133867609217, pvalue=0.0)\n"
          ],
          "name": "stdout"
        }
      ]
    },
    {
      "cell_type": "code",
      "metadata": {
        "id": "wNansjfGq5Em",
        "colab_type": "code",
        "colab": {}
      },
      "source": [
        "import csv\n",
        "with open('t_test_results.csv', 'w', newline='') as csvfile:\n",
        "  filewriter = csv.writer(csvfile)\n",
        "  filewriter.writerow(['phenotype', 't_stat', 'p_value'])\n",
        "  filewriter.writerow(['Phenotype_A', 125.81531296760492, 0.0])\n",
        "  filewriter.writerow(['Phenotype_B', -612.2304614555765, 0.0])\n",
        "  filewriter.writerow(['Phenotype_C', -129.29057422671738, 0.0])\n",
        "  filewriter.writerow(['Phenotype_D', 454.70409785658177, 0.0])\n",
        "  filewriter.writerow(['Phenotype_E', -796.6133867609217, 0.0])"
      ],
      "execution_count": 57,
      "outputs": []
    },
    {
      "cell_type": "code",
      "metadata": {
        "id": "TkMUQcJ5wBhK",
        "colab_type": "code",
        "colab": {}
      },
      "source": [
        ""
      ],
      "execution_count": null,
      "outputs": []
    }
  ]
}